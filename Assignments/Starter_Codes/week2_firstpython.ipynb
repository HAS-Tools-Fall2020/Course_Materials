{
 "cells": [
  {
   "cell_type": "code",
   "execution_count": 65,
   "metadata": {},
   "outputs": [
    {
     "data": {
      "text/plain": [
       "Text(0.5, 0, 'Date')"
      ]
     },
     "execution_count": 65,
     "metadata": {},
     "output_type": "execute_result"
    },
    {
     "data": {
      "image/png": "[encoded data removed]",
      "text/plain": [
       "<Figure size 432x288 with 1 Axes>"
      ]
     },
     "metadata": {
      "needs_background": "light"
     },
     "output_type": "display_data"
    }
   ],
   "source": [
    "# %%\n",
    "# Step 1 - Download the data from the USGS website\n",
    "# https: // waterdata.usgs.gov/nwis/dv?referred_module = sw & site_no = 09506000\n",
    "# For now you should save this file to the directory you put this script in\n",
    "\n",
    "# %%\n",
    "# Step 2 - Import the modules we will use\n",
    "import pandas as pd\n",
    "import matplotlib.pyplot as plt\n",
    "import os\n",
    "\n",
    "# %% \n",
    "# Step 3 - Read in the file in as dataframe\n",
    "# You will need to change the filename to match what you downloaded\n",
    "filename = (\"C:/Users/Richard/Desktop/class/Course_Materials/homework-richardmarcelain/data/streamflow_week1.txt\")\n",
    "filepath = os.path.join('data', filename)\n",
    "\n",
    "data=pd.read_table(filepath, sep = '\\t', skiprows=30, \n",
    "        names=['agency_cd', 'site_no', 'datetime', 'flow', 'code']\n",
    "        )\n",
    "data = data.set_index('datetime')\n",
    "\n",
    "\n",
    "# %%\n",
    "# Step 4 - Look at the data\n",
    "data.shape  # See how many rows and columns the data has\n",
    "data.head(6) # look at the first x rows of the data\n",
    "data.tail(6) # look at the last  x rows  of the data\n",
    "\n",
    "data.iloc[350:360] # grab any subset of rows to look at\n",
    "data.flow[350:380]  #Grab a subset of just the flow data dat look at\n",
    "data.loc['1990-01-01']  #find a specific date\n",
    "\n",
    "# %%\n",
    "# Step 5 - Make a plot of the data\n",
    "# Change the numbers on the followin lines to plot a different portion of the data\n",
    "ax=data.iloc[1700:1750]['flow'].plot(linewidth=0.5)\n",
    "ax.set_title('Streamflow Data')\n",
    "ax.set_ylabel('Daily Flow [cfs]')\n",
    "ax.set_xlabel('Date')"
   ]
  },
  {
   "cell_type": "code",
   "execution_count": 63,
   "metadata": {},
   "outputs": [
    {
     "name": "stdout",
     "output_type": "stream",
     "text": [
      "347.0\n",
      "165.0\n",
      "106.0\n",
      "137.0\n",
      "106.0\n",
      "107.0\n",
      "273.0\n",
      "194.0\n",
      "171.0\n",
      "162.0\n",
      "180.0\n",
      "226.0\n",
      "250.0\n",
      "298.0\n",
      "243.0\n",
      "244.0\n"
     ]
    }
   ],
   "source": [
    "a=data.iloc[1700:1850]['flow']\n",
    "for x in range(0,112,7):\n",
    "    print(a[x])"
   ]
  },
  {
   "cell_type": "code",
   "execution_count": null,
   "metadata": {},
   "outputs": [],
   "source": []
  }
 ],
 "metadata": {
  "kernelspec": {
   "display_name": "Python 3",
   "language": "python",
   "name": "python3"
  },
  "language_info": {
   "codemirror_mode": {
    "name": "ipython",
    "version": 3
   },
   "file_extension": ".py",
   "mimetype": "text/x-python",
   "name": "python",
   "nbconvert_exporter": "python",
   "pygments_lexer": "ipython3",
   "version": "3.7.6"
  }
 },
 "nbformat": 4,
 "nbformat_minor": 4
}
